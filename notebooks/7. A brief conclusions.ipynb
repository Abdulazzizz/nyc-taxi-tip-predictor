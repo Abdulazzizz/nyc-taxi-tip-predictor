{
 "metadata": {
  "name": "",
  "signature": "sha256:30f21028ba4adf745f53623cc593570311aec2f4c60ea8265172dd39a7ec24cb"
 },
 "nbformat": 3,
 "nbformat_minor": 0,
 "worksheets": [
  {
   "cells": [
    {
     "cell_type": "heading",
     "level": 1,
     "metadata": {},
     "source": [
      "7. A brief conclusions"
     ]
    },
    {
     "cell_type": "markdown",
     "metadata": {},
     "source": [
      "Predicting the tips in the NYC taxis with an accuracy of `71.74%` using `random forests`. Cool, for the time with a *real* case.\n",
      "\n",
      "![Thumbs up computer kid](../resources/thumbs_up_computer_kid.gif \"Thumbs up computer kid\")\n",
      "\n",
      "Think what you could do with this dataset adding more information sources like:\n",
      "\n",
      "* Weather\n",
      "* Subway and bus\n",
      "* Plane and train arrivals and departures\n",
      "* Sports and concerts\n",
      "* ... *whatever* you can imagine\n",
      "\n",
      "You could solve a huge range of problems!\n",
      "\n",
      "So, feel completely free to fork the repository and play with the notebooks. And if you have any problem, please contact me at my [GitHub account](https://github.com/josemazo) or the [Twitter one](https://twitter.com/josemazo).\n",
      "\n",
      "Finally, I'd like to say thank you again for the data [Chris](https://twitter.com/chris_whong). And of course, thank you too [Fernando](http://www.cs.us.es/~fsancho/) for supervising all my work."
     ]
    }
   ],
   "metadata": {}
  }
 ]
}