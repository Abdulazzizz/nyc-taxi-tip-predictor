{
 "metadata": {
  "name": "",
  "signature": "sha256:eb8e359370c0c14bf270d50d211a1abbf9b5fc1d414a1e8f74f4c60ab4d7bf92"
 },
 "nbformat": 3,
 "nbformat_minor": 0,
 "worksheets": [
  {
   "cells": [
    {
     "cell_type": "heading",
     "level": 1,
     "metadata": {},
     "source": [
      "7. A brief conclusions"
     ]
    },
    {
     "cell_type": "markdown",
     "metadata": {},
     "source": [
      "Predicting the tips in the NYC taxis with an accuracy of `71.74%` using `random forests`. Cool! Especially considering the next issues:\n",
      "\n",
      "* The initial status of the data.\n",
      "* There is no information to use about the passangers, a **essential** data for trying to accomplish this task.\n",
      "* It's my first time with a *real* case.\n",
      "\n",
      "![Thumbs up computer kid](../resources/thumbs_up_computer_kid.gif \"Thumbs up computer kid\")\n",
      "\n",
      "Think what you could do with this dataset adding more information sources like:\n",
      "\n",
      "* Weather\n",
      "* Subway and bus\n",
      "* Plane and train arrivals and departures\n",
      "* Sports and concerts\n",
      "* ... *whatever* you can imagine\n",
      "\n",
      "You could solve a huge range of problems!\n",
      "\n",
      "So, feel completely free to fork the repository and play with the notebooks. And if you have any problem, please contact me at my [GitHub](https://github.com/josemazo) or [Twitter accounts](https://twitter.com/josemazo).\n",
      "\n",
      "Finally, I'd like to say thank you again for the data [Chris](https://twitter.com/chris_whong). And of course, thank you too [Fernando](http://www.cs.us.es/~fsancho/) for supervising all my work."
     ]
    }
   ],
   "metadata": {}
  }
 ]
}